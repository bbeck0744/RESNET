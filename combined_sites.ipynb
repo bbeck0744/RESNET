{
 "cells": [
  {
   "cell_type": "code",
   "execution_count": 18,
   "metadata": {},
   "outputs": [],
   "source": [
    "from ftplib import FTP\n",
    "from io import StringIO\n",
    "from io import BytesIO\n",
    "import pandas as pd\n",
    "from dateutil import parser\n",
    "from datetime import datetime\n",
    "import datetime\n",
    "import csv\n",
    "import time\n",
    "import os"
   ]
  },
  {
   "cell_type": "code",
   "execution_count": 24,
   "metadata": {},
   "outputs": [
    {
     "data": {
      "text/plain": [
       "'250 CWD command successful'"
      ]
     },
     "execution_count": 24,
     "metadata": {},
     "output_type": "execute_result"
    }
   ],
   "source": [
    "ftp = FTP('213.190.6.111')\n",
    "ftp.login(user='u948444459', passwd = 'MCWD2020')\n",
    "\n",
    "ftp.cwd('/public_html/')"
   ]
  },
  {
   "cell_type": "code",
   "execution_count": 25,
   "metadata": {
    "scrolled": true
   },
   "outputs": [
    {
     "name": "stdout",
     "output_type": "stream",
     "text": [
      "Getting public_CPA01.csv\n",
      "Getting public_CMH04.csv\n"
     ]
    },
    {
     "name": "stderr",
     "output_type": "stream",
     "text": [
      "C:\\Users\\bbeck\\anaconda\\anaconda3\\lib\\site-packages\\pandas\\core\\indexing.py:1418: FutureWarning: \n",
      "Passing list-likes to .loc or [] with any missing label will raise\n",
      "KeyError in the future, you can use .reindex() as an alternative.\n",
      "\n",
      "See the documentation here:\n",
      "https://pandas.pydata.org/pandas-docs/stable/user_guide/indexing.html#deprecate-loc-reindex-listlike\n",
      "  return self._getitem_tuple(key)\n"
     ]
    },
    {
     "name": "stdout",
     "output_type": "stream",
     "text": [
      "Getting public_CMH24.csv\n"
     ]
    }
   ],
   "source": [
    "\n",
    "df_list = []\n",
    "\n",
    "def handle_binary(more_data):\n",
    "    sio.write(more_data)\n",
    "\n",
    "for filename in ftp.nlst():\n",
    "    if \"public\" in filename:\n",
    "        print('Getting ' + filename)\n",
    "        sio = BytesIO()\n",
    "        ftp.retrbinary(f\"RETR {filename}\", callback=handle_binary)\n",
    "        sio.seek(0) # Go back to the startdpd.read_csv(sio, header=None, skiprows= 8, nrows = 3)\n",
    "        df = pd.read_csv(sio)\n",
    "        df = df.loc[:, [\"rounded_time\", \"level_ft\", \"temp_C\",\"flow\"]]\n",
    "        df['site']=filename[7:12]\n",
    "        df_list.append(df.copy())"
   ]
  },
  {
   "cell_type": "code",
   "execution_count": 21,
   "metadata": {},
   "outputs": [
    {
     "data": {
      "text/plain": [
       "'221 Goodbye.'"
      ]
     },
     "execution_count": 21,
     "metadata": {},
     "output_type": "execute_result"
    }
   ],
   "source": [
    "#end MCWD FTP connection\n",
    "ftp.quit()"
   ]
  },
  {
   "cell_type": "code",
   "execution_count": 26,
   "metadata": {},
   "outputs": [
    {
     "data": {
      "text/html": [
       "<div>\n",
       "<style scoped>\n",
       "    .dataframe tbody tr th:only-of-type {\n",
       "        vertical-align: middle;\n",
       "    }\n",
       "\n",
       "    .dataframe tbody tr th {\n",
       "        vertical-align: top;\n",
       "    }\n",
       "\n",
       "    .dataframe thead th {\n",
       "        text-align: right;\n",
       "    }\n",
       "</style>\n",
       "<table border=\"1\" class=\"dataframe\">\n",
       "  <thead>\n",
       "    <tr style=\"text-align: right;\">\n",
       "      <th></th>\n",
       "      <th>rounded_time</th>\n",
       "      <th>level_ft</th>\n",
       "      <th>temp_C</th>\n",
       "      <th>flow</th>\n",
       "      <th>site</th>\n",
       "    </tr>\n",
       "  </thead>\n",
       "  <tbody>\n",
       "    <tr>\n",
       "      <td>0</td>\n",
       "      <td>2020-03-24 13:00:00</td>\n",
       "      <td>934.088000</td>\n",
       "      <td>2.900000</td>\n",
       "      <td>13.660109</td>\n",
       "      <td>CPA01</td>\n",
       "    </tr>\n",
       "    <tr>\n",
       "      <td>1</td>\n",
       "      <td>2020-03-24 14:00:00</td>\n",
       "      <td>934.089167</td>\n",
       "      <td>2.900000</td>\n",
       "      <td>13.690517</td>\n",
       "      <td>CPA01</td>\n",
       "    </tr>\n",
       "    <tr>\n",
       "      <td>2</td>\n",
       "      <td>2020-03-24 15:00:00</td>\n",
       "      <td>934.085833</td>\n",
       "      <td>2.900000</td>\n",
       "      <td>13.603734</td>\n",
       "      <td>CPA01</td>\n",
       "    </tr>\n",
       "    <tr>\n",
       "      <td>3</td>\n",
       "      <td>2020-03-24 16:00:00</td>\n",
       "      <td>934.087500</td>\n",
       "      <td>2.900000</td>\n",
       "      <td>13.647088</td>\n",
       "      <td>CPA01</td>\n",
       "    </tr>\n",
       "    <tr>\n",
       "      <td>4</td>\n",
       "      <td>2020-03-24 17:00:00</td>\n",
       "      <td>934.088333</td>\n",
       "      <td>2.900000</td>\n",
       "      <td>13.668793</td>\n",
       "      <td>CPA01</td>\n",
       "    </tr>\n",
       "    <tr>\n",
       "      <td>...</td>\n",
       "      <td>...</td>\n",
       "      <td>...</td>\n",
       "      <td>...</td>\n",
       "      <td>...</td>\n",
       "      <td>...</td>\n",
       "    </tr>\n",
       "    <tr>\n",
       "      <td>149</td>\n",
       "      <td>2020-04-02 00:00:00</td>\n",
       "      <td>815.042500</td>\n",
       "      <td>8.917500</td>\n",
       "      <td>NaN</td>\n",
       "      <td>CMH24</td>\n",
       "    </tr>\n",
       "    <tr>\n",
       "      <td>150</td>\n",
       "      <td>2020-04-02 01:00:00</td>\n",
       "      <td>815.052500</td>\n",
       "      <td>8.767500</td>\n",
       "      <td>NaN</td>\n",
       "      <td>CMH24</td>\n",
       "    </tr>\n",
       "    <tr>\n",
       "      <td>151</td>\n",
       "      <td>2020-04-02 02:00:00</td>\n",
       "      <td>815.044167</td>\n",
       "      <td>8.706667</td>\n",
       "      <td>NaN</td>\n",
       "      <td>CMH24</td>\n",
       "    </tr>\n",
       "    <tr>\n",
       "      <td>152</td>\n",
       "      <td>2020-04-02 03:00:00</td>\n",
       "      <td>815.045833</td>\n",
       "      <td>8.666667</td>\n",
       "      <td>NaN</td>\n",
       "      <td>CMH24</td>\n",
       "    </tr>\n",
       "    <tr>\n",
       "      <td>153</td>\n",
       "      <td>2020-04-02 04:00:00</td>\n",
       "      <td>815.060000</td>\n",
       "      <td>8.620000</td>\n",
       "      <td>NaN</td>\n",
       "      <td>CMH24</td>\n",
       "    </tr>\n",
       "  </tbody>\n",
       "</table>\n",
       "<p>490 rows × 5 columns</p>\n",
       "</div>"
      ],
      "text/plain": [
       "            rounded_time    level_ft    temp_C       flow   site\n",
       "0    2020-03-24 13:00:00  934.088000  2.900000  13.660109  CPA01\n",
       "1    2020-03-24 14:00:00  934.089167  2.900000  13.690517  CPA01\n",
       "2    2020-03-24 15:00:00  934.085833  2.900000  13.603734  CPA01\n",
       "3    2020-03-24 16:00:00  934.087500  2.900000  13.647088  CPA01\n",
       "4    2020-03-24 17:00:00  934.088333  2.900000  13.668793  CPA01\n",
       "..                   ...         ...       ...        ...    ...\n",
       "149  2020-04-02 00:00:00  815.042500  8.917500        NaN  CMH24\n",
       "150  2020-04-02 01:00:00  815.052500  8.767500        NaN  CMH24\n",
       "151  2020-04-02 02:00:00  815.044167  8.706667        NaN  CMH24\n",
       "152  2020-04-02 03:00:00  815.045833  8.666667        NaN  CMH24\n",
       "153  2020-04-02 04:00:00  815.060000  8.620000        NaN  CMH24\n",
       "\n",
       "[490 rows x 5 columns]"
      ]
     },
     "execution_count": 26,
     "metadata": {},
     "output_type": "execute_result"
    }
   ],
   "source": [
    "#combine all files in the list\n",
    "df = pd.concat(df_list)\n",
    "df"
   ]
  },
  {
   "cell_type": "code",
   "execution_count": 95,
   "metadata": {},
   "outputs": [],
   "source": [
    "#create connection to ftp site\n",
    "ftp = FTP('213.190.6.111')\n",
    "ftp.login(user='u948444459', passwd = 'MCWD2020')\n",
    "\n",
    "ftp.cwd('/public_html/')\n",
    "\n",
    "# text buffer\n",
    "buffer = StringIO()\n",
    "\n",
    "# saving a data frame to a buffer (same as with a regular file):\n",
    "CMH24_private.to_csv(buffer, sep=',', encoding = 'utf-8', mode ='r', index=True)\n",
    "text = buffer.getvalue()\n",
    "bio = BytesIO(str.encode(text))\n",
    "bio.seek(0)\n",
    "ftp.storbinary('STOR '+ 'private_CMH24.csv', bio)\n",
    "\n",
    "# text buffer\n",
    "public = StringIO()\n",
    "\n",
    "# saving a data frame to a buffer (same as with a regular file):\n",
    "CMH24_public.to_csv(public, sep=',', encoding = 'utf-8', mode ='r', index=True)\n",
    "public_text = public.getvalue()\n",
    "public_bio = BytesIO(str.encode(public_text))\n",
    "public_bio.seek(0)\n",
    "ftp.storbinary('STOR '+ 'public_CMH24.csv', public_bio)\n"
   ]
  },
  {
   "cell_type": "code",
   "execution_count": 98,
   "metadata": {},
   "outputs": [
    {
     "data": {
      "text/plain": [
       "'226 Transfer complete'"
      ]
     },
     "execution_count": 98,
     "metadata": {},
     "output_type": "execute_result"
    }
   ],
   "source": [
    "ftp.quit()"
   ]
  }
 ],
 "metadata": {
  "kernelspec": {
   "display_name": "Python 3",
   "language": "python",
   "name": "python3"
  },
  "language_info": {
   "codemirror_mode": {
    "name": "ipython",
    "version": 3
   },
   "file_extension": ".py",
   "mimetype": "text/x-python",
   "name": "python",
   "nbconvert_exporter": "python",
   "pygments_lexer": "ipython3",
   "version": "3.7.3"
  }
 },
 "nbformat": 4,
 "nbformat_minor": 2
}
